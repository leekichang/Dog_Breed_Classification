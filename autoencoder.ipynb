{
 "cells": [
  {
   "cell_type": "code",
   "execution_count": 1,
   "metadata": {},
   "outputs": [],
   "source": [
    "import torch\n",
    "import torch.nn as nn\n",
    "import torch.optim as optim\n",
    "from torch.optim import lr_scheduler\n",
    "\n",
    "import torchvision.datasets as dset\n",
    "import torchvision.transforms as transforms\n",
    "import matplotlib.pyplot as plt\n",
    "\n",
    "import random\n",
    "\n",
    "from torch.utils.data import DataLoader\n",
    "\n",
    "from tqdm.notebook import tqdm"
   ]
  },
  {
   "cell_type": "code",
   "execution_count": 2,
   "metadata": {},
   "outputs": [
    {
     "name": "stdout",
     "output_type": "stream",
     "text": [
      "Working with cuda\n"
     ]
    }
   ],
   "source": [
    "DATASET_DIR = './data/'\n",
    "\n",
    "BATCH_SIZE = 256\n",
    "LEARNING_RATE = 0.001\n",
    "EPOCHS = 10\n",
    "\n",
    "USE_CUDA = torch.cuda.is_available() \n",
    "DEVICE = torch.device(\"cuda\" if USE_CUDA else \"cpu\") \n",
    "print(\"Working with\", DEVICE)"
   ]
  },
  {
   "cell_type": "code",
   "execution_count": 3,
   "metadata": {},
   "outputs": [],
   "source": [
    "image_height = 224\n",
    "\n",
    "transforms_ = transforms.Compose([transforms.ToTensor(),\n",
    "                                    transforms.Normalize(mean=[0.485, 0.456, 0.406],\n",
    "                                        std=[0.229, 0.224, 0.225])])\n",
    "\n",
    "dataset = dset.ImageFolder(root=DATASET_DIR+'train_ae/doggy', transform = transforms_)\n",
    "dataLoader = torch.utils.data.DataLoader(dataset, batch_size=BATCH_SIZE, shuffle=True, drop_last=True)\n"
   ]
  },
  {
   "cell_type": "code",
   "execution_count": 4,
   "metadata": {},
   "outputs": [],
   "source": [
    "class AutoEncoder(nn.Module):\n",
    "    def __init__(self):\n",
    "        super(AutoEncoder, self).__init__()\n",
    "        self.encoder = nn.Sequential(\n",
    "            nn.Conv2d(in_channels=3, out_channels=32, kernel_size=2, stride=2, bias=False),\n",
    "            nn.LeakyReLU(),\n",
    "            nn.Conv2d(in_channels=32, out_channels=64, kernel_size=2, stride=2, bias=False),\n",
    "            nn.LeakyReLU(),\n",
    "            nn.Conv2d(in_channels=64, out_channels=256, kernel_size=2, stride=2, bias=False),\n",
    "            nn.LeakyReLU(),\n",
    "            nn.Conv2d(in_channels=256, out_channels=512, kernel_size=2, stride=2, bias=False),\n",
    "            Reshape((-1,14*14*512)),\n",
    "            nn.Linear(14*14*512, 2048),\n",
    "            nn.LeakyReLU(),\n",
    "        )\n",
    "        self.decoder = nn.Sequential(\n",
    "            nn.Linear(2048, 14*14*512),\n",
    "            nn.LeakyReLU(),\n",
    "            Reshape((-1,512,14,14)),\n",
    "            nn.LeakyReLU(),\n",
    "            nn.ConvTranspose2d(in_channels=512, out_channels=256, kernel_size=2, stride=2, bias=False),\n",
    "            nn.LeakyReLU(),\n",
    "            nn.ConvTranspose2d(in_channels=256, out_channels=64, kernel_size=2, stride=2, bias=False),\n",
    "            nn.LeakyReLU(),\n",
    "            nn.ConvTranspose2d(in_channels=64, out_channels=32, kernel_size=2, stride=2, bias=False),\n",
    "            nn.LeakyReLU(),\n",
    "            nn.ConvTranspose2d(in_channels=32, out_channels=3, kernel_size=2, stride=2, bias=False),\n",
    "            nn.Sigmoid()\n",
    "        )\n",
    "    def forward(self, x):\n",
    "        feature = self.encoder(x)\n",
    "        out = self.decoder(feature)\n",
    "        return out, feature"
   ]
  },
  {
   "cell_type": "code",
   "execution_count": 5,
   "metadata": {},
   "outputs": [],
   "source": [
    "class Reshape(nn.Module):\n",
    "    def __init__(self, shape):\n",
    "        super(Reshape, self).__init__()\n",
    "        self.shape = shape\n",
    "    def forward(self, x):\n",
    "        return x.view(*self.shape)"
   ]
  },
  {
   "cell_type": "code",
   "execution_count": 6,
   "metadata": {},
   "outputs": [
    {
     "data": {
      "application/vnd.jupyter.widget-view+json": {
       "model_id": "571476b734954643a5ce6edf395dd46e",
       "version_major": 2,
       "version_minor": 0
      },
      "text/plain": [
       "EPOCHS:   0%|          | 0/10 [00:00<?, ?it/s]"
      ]
     },
     "metadata": {},
     "output_type": "display_data"
    },
    {
     "data": {
      "application/vnd.jupyter.widget-view+json": {
       "model_id": "6291906ea340479d80d5c38ec4802277",
       "version_major": 2,
       "version_minor": 0
      },
      "text/plain": [
       "training: 0it [00:00, ?it/s]"
      ]
     },
     "metadata": {},
     "output_type": "display_data"
    },
    {
     "name": "stdout",
     "output_type": "stream",
     "text": [
      "Epoch: 0, Loss: 1.1076579093933105, LR: 0.001\n"
     ]
    },
    {
     "data": {
      "application/vnd.jupyter.widget-view+json": {
       "model_id": "e3f78fbea54b43a0a54aa1e56fba7205",
       "version_major": 2,
       "version_minor": 0
      },
      "text/plain": [
       "training: 0it [00:00, ?it/s]"
      ]
     },
     "metadata": {},
     "output_type": "display_data"
    },
    {
     "name": "stdout",
     "output_type": "stream",
     "text": [
      "Epoch: 1, Loss: 1.0548863410949707, LR: 0.001\n"
     ]
    },
    {
     "data": {
      "application/vnd.jupyter.widget-view+json": {
       "model_id": "35a55313efca4a2b9a9e3788ff5c0cbe",
       "version_major": 2,
       "version_minor": 0
      },
      "text/plain": [
       "training: 0it [00:00, ?it/s]"
      ]
     },
     "metadata": {},
     "output_type": "display_data"
    },
    {
     "name": "stdout",
     "output_type": "stream",
     "text": [
      "Epoch: 2, Loss: 0.9549311399459839, LR: 0.001\n"
     ]
    },
    {
     "data": {
      "application/vnd.jupyter.widget-view+json": {
       "model_id": "653a528f8e7d42daba1638c6899552f2",
       "version_major": 2,
       "version_minor": 0
      },
      "text/plain": [
       "training: 0it [00:00, ?it/s]"
      ]
     },
     "metadata": {},
     "output_type": "display_data"
    },
    {
     "name": "stdout",
     "output_type": "stream",
     "text": [
      "Epoch: 3, Loss: 0.9378151297569275, LR: 0.001\n"
     ]
    },
    {
     "data": {
      "application/vnd.jupyter.widget-view+json": {
       "model_id": "312796beafe7468b92a35f5b9e0059d9",
       "version_major": 2,
       "version_minor": 0
      },
      "text/plain": [
       "training: 0it [00:00, ?it/s]"
      ]
     },
     "metadata": {},
     "output_type": "display_data"
    },
    {
     "name": "stdout",
     "output_type": "stream",
     "text": [
      "Epoch: 4, Loss: 0.956081211566925, LR: 0.0001\n"
     ]
    },
    {
     "data": {
      "application/vnd.jupyter.widget-view+json": {
       "model_id": "ea805cae94b24d1999db6601eb15a036",
       "version_major": 2,
       "version_minor": 0
      },
      "text/plain": [
       "training: 0it [00:00, ?it/s]"
      ]
     },
     "metadata": {},
     "output_type": "display_data"
    },
    {
     "name": "stdout",
     "output_type": "stream",
     "text": [
      "Epoch: 5, Loss: 0.9168379306793213, LR: 0.0001\n"
     ]
    },
    {
     "data": {
      "application/vnd.jupyter.widget-view+json": {
       "model_id": "60a558d3e9ee4b0c9c6525e50413b244",
       "version_major": 2,
       "version_minor": 0
      },
      "text/plain": [
       "training: 0it [00:00, ?it/s]"
      ]
     },
     "metadata": {},
     "output_type": "display_data"
    },
    {
     "name": "stdout",
     "output_type": "stream",
     "text": [
      "Epoch: 6, Loss: 0.9871150255203247, LR: 1e-05\n"
     ]
    },
    {
     "data": {
      "application/vnd.jupyter.widget-view+json": {
       "model_id": "f96c8ab3cf324d57a607c6e0bd6a6d96",
       "version_major": 2,
       "version_minor": 0
      },
      "text/plain": [
       "training: 0it [00:00, ?it/s]"
      ]
     },
     "metadata": {},
     "output_type": "display_data"
    },
    {
     "name": "stdout",
     "output_type": "stream",
     "text": [
      "Epoch: 7, Loss: 0.9223852753639221, LR: 1e-05\n"
     ]
    },
    {
     "data": {
      "application/vnd.jupyter.widget-view+json": {
       "model_id": "e57dce06deac4d21b32bee23f7108d71",
       "version_major": 2,
       "version_minor": 0
      },
      "text/plain": [
       "training: 0it [00:00, ?it/s]"
      ]
     },
     "metadata": {},
     "output_type": "display_data"
    },
    {
     "name": "stdout",
     "output_type": "stream",
     "text": [
      "Epoch: 8, Loss: 0.9192450642585754, LR: 1.0000000000000002e-06\n"
     ]
    },
    {
     "data": {
      "application/vnd.jupyter.widget-view+json": {
       "model_id": "2bfd2c4a220747438d671cd64f0f112e",
       "version_major": 2,
       "version_minor": 0
      },
      "text/plain": [
       "training: 0it [00:00, ?it/s]"
      ]
     },
     "metadata": {},
     "output_type": "display_data"
    },
    {
     "name": "stdout",
     "output_type": "stream",
     "text": [
      "Epoch: 9, Loss: 0.891267716884613, LR: 1.0000000000000002e-06\n"
     ]
    }
   ],
   "source": [
    "device = torch.device(\"cuda:0\" if torch.cuda.is_available() else \"cpu\")\n",
    "model = AutoEncoder().to(device)\n",
    "loss_func = nn.MSELoss().to(device)\n",
    "optimizer = optim.Adam(model.parameters(), lr=LEARNING_RATE)\n",
    "scheduler = lr_scheduler.ReduceLROnPlateau(optimizer,threshold=0.1, patience=1, mode='min')\n",
    "\n",
    "for i in tqdm(range(EPOCHS), desc = 'EPOCHS'):\n",
    "    for _, [image, _] in tqdm(enumerate(dataLoader), desc = 'training'):\n",
    "        x = image.to(device)\n",
    "        y_= image.to(device)\n",
    "        \n",
    "        optimizer.zero_grad()\n",
    "        output,_ = model(x)\n",
    "        loss = loss_func(output, y_)\n",
    "        loss.backward()\n",
    "        optimizer.step()\n",
    " \n",
    "    scheduler.step(loss)\n",
    "    print('Epoch: {}, Loss: {}, LR: {}'.format(i, loss.item(), scheduler.optimizer.state_dict()['param_groups'][0]['lr']))"
   ]
  },
  {
   "cell_type": "code",
   "execution_count": 7,
   "metadata": {},
   "outputs": [
    {
     "data": {
      "application/vnd.jupyter.widget-view+json": {
       "model_id": "a5312c2e211f4a61b071470baa59d64c",
       "version_major": 2,
       "version_minor": 0
      },
      "text/plain": [
       "training: 0it [00:00, ?it/s]"
      ]
     },
     "metadata": {},
     "output_type": "display_data"
    },
    {
     "name": "stdout",
     "output_type": "stream",
     "text": [
      "torch.Size([256, 3, 224, 224])\n"
     ]
    }
   ],
   "source": [
    "for _, [image, _] in tqdm(enumerate(dataLoader), desc = 'training'):\n",
    "    print(image.shape)\n",
    "    break"
   ]
  },
  {
   "cell_type": "code",
   "execution_count": 8,
   "metadata": {},
   "outputs": [],
   "source": [
    "def imreshape_(img):\n",
    "    n_img = img\n",
    "    C,W,H = img.shape\n",
    "    n_img = n_img.reshape(W, H, C)\n",
    "    n_img[:,:,0] = img[0,:,:]\n",
    "    n_img[:,:,1] = img[1,:,:]\n",
    "    n_img[:,:,2] = img[2,:,:]\n",
    "    return n_img"
   ]
  },
  {
   "cell_type": "code",
   "execution_count": 9,
   "metadata": {},
   "outputs": [
    {
     "name": "stdout",
     "output_type": "stream",
     "text": [
      "tensor([[[[1.7555e-04, 4.3113e-04, 3.8405e-04,  ..., 9.9991e-01,\n",
      "           9.9999e-01, 9.9979e-01],\n",
      "          [3.6203e-04, 1.6011e-03, 8.9498e-04,  ..., 1.0000e+00,\n",
      "           9.9998e-01, 1.0000e+00],\n",
      "          [6.9708e-04, 7.9944e-05, 6.1311e-04,  ..., 9.9997e-01,\n",
      "           9.9992e-01, 9.9997e-01],\n",
      "          ...,\n",
      "          [6.9701e-05, 3.3537e-05, 2.5344e-05,  ..., 1.0000e+00,\n",
      "           9.9995e-01, 1.0000e+00],\n",
      "          [3.4983e-06, 1.9992e-08, 2.6893e-05,  ..., 9.9991e-01,\n",
      "           9.9974e-01, 9.9988e-01],\n",
      "          [2.0566e-05, 5.1521e-06, 1.4359e-05,  ..., 1.0000e+00,\n",
      "           9.9974e-01, 1.0000e+00]],\n",
      "\n",
      "         [[5.3582e-05, 1.0855e-04, 3.5686e-04,  ..., 9.9994e-01,\n",
      "           9.9994e-01, 9.9998e-01],\n",
      "          [2.8716e-04, 7.4637e-04, 5.9524e-04,  ..., 9.9999e-01,\n",
      "           1.0000e+00, 1.0000e+00],\n",
      "          [4.9146e-04, 3.8977e-04, 9.3970e-05,  ..., 9.9998e-01,\n",
      "           9.9991e-01, 9.9996e-01],\n",
      "          ...,\n",
      "          [2.7081e-06, 3.0734e-06, 1.4347e-06,  ..., 9.9997e-01,\n",
      "           9.9999e-01, 9.9999e-01],\n",
      "          [2.0332e-06, 2.1099e-09, 3.6567e-06,  ..., 9.9993e-01,\n",
      "           9.9986e-01, 9.9986e-01],\n",
      "          [2.3618e-07, 1.3555e-05, 2.0716e-06,  ..., 9.9999e-01,\n",
      "           9.9999e-01, 9.9997e-01]],\n",
      "\n",
      "         [[3.0154e-04, 1.3352e-06, 2.9027e-05,  ..., 9.9991e-01,\n",
      "           9.9974e-01, 9.9979e-01],\n",
      "          [8.8176e-06, 1.5723e-06, 3.5979e-04,  ..., 9.9998e-01,\n",
      "           9.9987e-01, 9.9985e-01],\n",
      "          [5.5572e-06, 2.8467e-07, 7.6447e-05,  ..., 9.9985e-01,\n",
      "           9.9991e-01, 9.9985e-01],\n",
      "          ...,\n",
      "          [3.9286e-10, 2.5657e-07, 1.3593e-07,  ..., 9.9994e-01,\n",
      "           9.9970e-01, 9.9952e-01],\n",
      "          [1.2418e-06, 7.5064e-09, 1.0359e-07,  ..., 9.9968e-01,\n",
      "           9.9971e-01, 9.9954e-01],\n",
      "          [9.6782e-06, 3.3821e-06, 6.8692e-08,  ..., 9.9964e-01,\n",
      "           9.9972e-01, 9.9967e-01]]]], device='cuda:0',\n",
      "       grad_fn=<SigmoidBackward0>)\n"
     ]
    }
   ],
   "source": [
    "transform_Tensor = transforms.Compose([transforms.ToTensor()])\n",
    "inp = transform_Tensor(dataset[0][0].numpy().reshape(3,224,224)).reshape(1,3,224,224).to(device)\n",
    "img = model(inp)\n",
    "print(img[0])\n",
    "#plt.imshow(imreshape_(img.detach().cpu().numpy(), cmap='gray'))"
   ]
  },
  {
   "cell_type": "code",
   "execution_count": 10,
   "metadata": {},
   "outputs": [
    {
     "name": "stderr",
     "output_type": "stream",
     "text": [
      "Clipping input data to the valid range for imshow with RGB data ([0..1] for floats or [0..255] for integers).\n",
      "Clipping input data to the valid range for imshow with RGB data ([0..1] for floats or [0..255] for integers).\n"
     ]
    },
    {
     "name": "stdout",
     "output_type": "stream",
     "text": [
      "0\n",
      "0\n"
     ]
    },
    {
     "name": "stderr",
     "output_type": "stream",
     "text": [
      "Clipping input data to the valid range for imshow with RGB data ([0..1] for floats or [0..255] for integers).\n",
      "Clipping input data to the valid range for imshow with RGB data ([0..1] for floats or [0..255] for integers).\n"
     ]
    },
    {
     "name": "stdout",
     "output_type": "stream",
     "text": [
      "0\n",
      "0\n"
     ]
    },
    {
     "data": {
      "image/png": "[encoded data removed]",
      "text/plain": [
       "<Figure size 432x288 with 8 Axes>"
      ]
     },
     "metadata": {
      "needs_background": "light"
     },
     "output_type": "display_data"
    }
   ],
   "source": [
    "model.eval()\n",
    "rows = 4\n",
    "random.seed(42)\n",
    "for c in range(rows):\n",
    "    plt.subplot(rows, 2, c*2+1)\n",
    "    rand_idx = random.randint(0, 4072)\n",
    "    plt.imshow(imreshape_(dataset[rand_idx][0].view(3, 224,224)), cmap = 'gray')\n",
    "    plt.axis('off')\n",
    "    plt.subplot(rows, 2, c*2+2)\n",
    "    inp = transform_Tensor(dataset[rand_idx][0].numpy().reshape(3,224,224)).reshape(1,3,224,224).to(device)\n",
    "    img = model(inp)\n",
    "    plt.imshow(imreshape_(img[0].view(3,224,224).detach().cpu().numpy()), cmap='gray')\n",
    "    plt.axis('off')\n",
    "    print(dataset.targets[rand_idx])\n",
    "plt.show()"
   ]
  }
 ],
 "metadata": {
  "interpreter": {
   "hash": "4ee7f1d5d7a98b2a1e79ef1d845e0f49eec75467255a56e42fce5b0b6890b5c2"
  },
  "kernelspec": {
   "display_name": "Python 3.9.9 64-bit ('IIE4123': venv)",
   "language": "python",
   "name": "python3"
  },
  "language_info": {
   "codemirror_mode": {
    "name": "ipython",
    "version": 3
   },
   "file_extension": ".py",
   "mimetype": "text/x-python",
   "name": "python",
   "nbconvert_exporter": "python",
   "pygments_lexer": "ipython3",
   "version": "3.9.9"
  },
  "orig_nbformat": 4
 },
 "nbformat": 4,
 "nbformat_minor": 2
}
