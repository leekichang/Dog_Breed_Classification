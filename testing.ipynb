{
 "cells": [
  {
   "cell_type": "markdown",
   "metadata": {},
   "source": [
    "# Import Packages"
   ]
  },
  {
   "cell_type": "code",
   "execution_count": null,
   "metadata": {},
   "outputs": [],
   "source": [
    "import os\n",
    "os.environ['CUDA_LAUNCH_BLOCKING'] = \"1\"\n",
    "os.environ[\"CUDA_VISIBLE_DEVICES\"] = \"0\"\n",
    "import time\n",
    "\n",
    "import numpy as np\n",
    "import torch\n",
    "import torch.nn as nn\n",
    "import torch.optim as optim\n",
    "import torch.nn.init as init\n",
    "import torch.nn.functional as F\n",
    "\n",
    "import torchvision.datasets as dset\n",
    "import torchvision.transforms as transforms\n",
    "from torch.utils.data import DataLoader\n",
    "\n",
    "import matplotlib.pyplot as plt\n",
    "from tqdm.notebook import tqdm\n",
    "\n",
    "import sklearn.metrics as metrics\n",
    "\n",
    "import utils\n",
    "import model_zoo"
   ]
  },
  {
   "cell_type": "markdown",
   "metadata": {},
   "source": [
    "# Hyper-Parameters"
   ]
  },
  {
   "cell_type": "code",
   "execution_count": null,
   "metadata": {},
   "outputs": [],
   "source": [
    "DATASET_DIR = './data/'\n",
    "\n",
    "BATCH_SIZE = 64\n",
    "LEARNING_RATE = 0.01\n",
    "EPOCHS = 10\n",
    "\n",
    "ModelSavePath = \"./Saved_model/\"\n",
    "if not os.path.isdir(ModelSavePath):\n",
    "    os.mkdir(ModelSavePath)\n",
    "\n",
    "USE_CUDA = torch.cuda.is_available() \n",
    "DEVICE = torch.device(\"cuda\" if USE_CUDA else \"cpu\") \n",
    "print(\"Working with\", DEVICE)"
   ]
  },
  {
   "cell_type": "code",
   "execution_count": null,
   "metadata": {},
   "outputs": [],
   "source": [
    "TRAIN_SET, TEST_SET, train_loader, test_loader = utils.load_dataset(BATCH_SIZE=BATCH_SIZE)"
   ]
  },
  {
   "cell_type": "code",
   "execution_count": null,
   "metadata": {},
   "outputs": [],
   "source": [
    "\n",
    "model_names = ['denseNet161',\n",
    "               'mobilenet_v3_large',\n",
    "               \"mobilenet_v3_small\",\n",
    "               \"inception\",\n",
    "               \"resnet50\",\n",
    "               \"resnet101\",\n",
    "               \"resnet34\"\n",
    "              ]\n",
    "\n",
    "model_lst = [model_zoo.load_model(model_name) for model_name in model_names]\n",
    "criterion = nn.CrossEntropyLoss().to(DEVICE)"
   ]
  },
  {
   "cell_type": "code",
   "execution_count": null,
   "metadata": {},
   "outputs": [],
   "source": [
    "LOSSES_TRAIN, LOSSES_VAL = [[] for idx in range(len(model_lst))], [[] for idx in range(len(model_lst))]\n",
    "ACCS_VAL = [[] for idx in range(len(model_lst))]\n",
    "SOTA_ACCS_VAL, SOTA_LOSS_VAL = [0 for idx in range(len(model_lst))], [0 for idx in range(len(model_lst))]\n",
    "bestResult_pred_np, bestResult_anno_np = [[] for idx in range(len(model_lst))], [[] for idx in range(len(model_lst))]\n",
    "bestModels = [0 for idx in range(len(model_lst))]\n",
    "\n",
    "for model_idx, model in enumerate(model_lst):\n",
    "    model.to(DEVICE)\n",
    "    start = time.time()\n",
    "    optimizer = torch.optim.Adam(model.parameters(), lr=LEARNING_RATE)\n",
    "    for epoch in tqdm(range(EPOCHS), desc=\"EPOCHS\"):\n",
    "        model.train()\n",
    "        LOSS_TRACE_FOR_TRAIN, LOSS_TRACE_FOR_VAL = [], []\n",
    "        for idx, batch in enumerate(train_loader):\n",
    "            optimizer.zero_grad()\n",
    "\n",
    "            X_train, Y_train = batch\n",
    "            X_train, Y_train = X_train.to(DEVICE), Y_train.to(DEVICE)\n",
    "\n",
    "            Y_pred_train = model(X_train)\n",
    "            Y_train = Y_train.squeeze(-1)\n",
    "\n",
    "            LOSS_train = criterion(Y_pred_train, Y_train)\n",
    "\n",
    "            LOSS_TRACE_FOR_TRAIN.append(LOSS_train.cpu().detach().numpy())\n",
    "            LOSS_train.backward()\n",
    "            optimizer.step()        \n",
    "\n",
    "        with torch.no_grad():\n",
    "            model.eval()\n",
    "            Result_pred_val, Result_anno_val = [], []\n",
    "            for idx, batch in enumerate(test_loader):\n",
    "                X_val, Y_val = batch\n",
    "                X_val, Y_val = X_val.to(DEVICE), Y_val.to(DEVICE)\n",
    "\n",
    "                Y_pred_val = model(X_val)\n",
    "                LOSS_val = criterion(Y_pred_val, Y_val)\n",
    "                LOSS_TRACE_FOR_VAL.append(LOSS_val.cpu().detach().numpy())\n",
    "\n",
    "                Y_pred_val_np  = Y_pred_val.to('cpu').detach().numpy()\n",
    "                Y_pred_val_np  = np.argmax(Y_pred_val_np, axis=1).squeeze()\n",
    "                Y_val_np       = Y_val.to('cpu').detach().numpy().reshape(-1, 1).squeeze()     \n",
    "                \n",
    "                Result_pred_val = np.hstack((Result_pred_val, Y_pred_val_np))\n",
    "                Result_anno_val = np.hstack((Result_anno_val, Y_val_np))\n",
    "                # Result_pred_val.append(list(Y_pred_val_np))\n",
    "                # Result_anno_val.append(list(Y_val_np))\n",
    "            \n",
    "            Result_pred_np = np.array(Result_pred_val)\n",
    "            Result_anno_np = np.array(Result_anno_val)\n",
    "            Result_pred_np = np.reshape(Result_pred_np, (-1, 1))\n",
    "            Result_anno_np = np.reshape(Result_anno_np, (-1, 1))\n",
    "            \n",
    "            ACC_VAL        = metrics.accuracy_score(Result_anno_np, Result_pred_np)\n",
    "            AVG_LOSS_TRAIN = np.average(LOSS_TRACE_FOR_TRAIN)\n",
    "            AVG_LOSS_VAL   = np.average(LOSS_TRACE_FOR_VAL)\n",
    "\n",
    "            LOSSES_TRAIN[model_idx].append(AVG_LOSS_TRAIN)\n",
    "            LOSSES_VAL[model_idx].append(AVG_LOSS_VAL)\n",
    "            ACCS_VAL[model_idx].append(ACC_VAL)\n",
    "            \n",
    "            if ACC_VAL > SOTA_ACCS_VAL[model_idx]:\n",
    "                SOTA_ACCS_VAL[model_idx] = ACC_VAL\n",
    "                SOTA_LOSS_VAL[model_idx] = AVG_LOSS_VAL\n",
    "                bestModels[model_idx] = model\n",
    "                bestResult_pred_np[model_idx] = Result_pred_np\n",
    "                bestResult_anno_np[model_idx] = Result_anno_np\n",
    "                \n",
    "            # elif ACC_VAL == SOTA_ACCS_VAL[model_idx]:\n",
    "            #     if AVG_LOSS_VAL < SOTA_LOSS_VAL[model_idx]:\n",
    "            #         SOTA_ACCS_VAL[model_idx] = ACC_VAL\n",
    "            #         SOTA_LOSS_VAL[model_idx] = AVG_LOSS_VAL\n",
    "            #         bestModels[model_idx] = model\n",
    "            #         bestResult_pred_np[model_idx] = Result_pred_np\n",
    "            #         bestResult_anno_np[model_idx] = Result_anno_np\n",
    "                \n",
    "            print(f'(epoch {epoch + 1:03d}/{EPOCHS}) Training Loss : {AVG_LOSS_TRAIN:.5f} | Validation Loss : {AVG_LOSS_VAL:.5f} | Validation Accuracy : {ACC_VAL*100:.2f} %')\n",
    "    model.to_empty()\n",
    "    end = time.time()\n",
    "    print(f\"{model_names[model_idx]} Training took {end-start:.2f} sec\")\n",
    "    torch.save(bestModels[model_idx].state_dict(), ModelSavePath + model_names[model_idx] +'.pth')"
   ]
  },
  {
   "cell_type": "code",
   "execution_count": null,
   "metadata": {},
   "outputs": [],
   "source": [
    "utils.get_metrics(models = model_lst, pred = bestResult_pred_np, anno = bestResult_anno_np)"
   ]
  },
  {
   "cell_type": "code",
   "execution_count": 3,
   "metadata": {},
   "outputs": [
    {
     "ename": "ImportError",
     "evalue": "attempted relative import with no known parent package",
     "output_type": "error",
     "traceback": [
      "\u001b[1;31m---------------------------------------------------------------------------\u001b[0m",
      "\u001b[1;31mImportError\u001b[0m                               Traceback (most recent call last)",
      "\u001b[1;32m<ipython-input-3-9db851d61baa>\u001b[0m in \u001b[0;36m<module>\u001b[1;34m\u001b[0m\n\u001b[1;32m----> 1\u001b[1;33m \u001b[1;32mimport\u001b[0m \u001b[0mregNet\u001b[0m\u001b[1;33m\u001b[0m\u001b[1;33m\u001b[0m\u001b[0m\n\u001b[0m\u001b[0;32m      2\u001b[0m \u001b[1;33m\u001b[0m\u001b[0m\n\u001b[0;32m      3\u001b[0m \u001b[0mmodel\u001b[0m \u001b[1;33m=\u001b[0m\u001b[0mregNet\u001b[0m\u001b[1;33m.\u001b[0m\u001b[0mregnet_y_32gf\u001b[0m\u001b[1;33m(\u001b[0m\u001b[0mpretrained\u001b[0m \u001b[1;33m=\u001b[0m \u001b[1;32mTrue\u001b[0m\u001b[1;33m)\u001b[0m\u001b[1;33m\u001b[0m\u001b[1;33m\u001b[0m\u001b[0m\n",
      "\u001b[1;32md:\\Dog_Breed_Classification\\regNet.py\u001b[0m in \u001b[0;36m<module>\u001b[1;34m\u001b[0m\n\u001b[0;32m      7\u001b[0m \u001b[1;32mfrom\u001b[0m \u001b[0mtorch\u001b[0m \u001b[1;32mimport\u001b[0m \u001b[0mnn\u001b[0m\u001b[1;33m,\u001b[0m \u001b[0mTensor\u001b[0m\u001b[1;33m\u001b[0m\u001b[1;33m\u001b[0m\u001b[0m\n\u001b[0;32m      8\u001b[0m \u001b[1;33m\u001b[0m\u001b[0m\n\u001b[1;32m----> 9\u001b[1;33m \u001b[1;32mfrom\u001b[0m \u001b[1;33m.\u001b[0m\u001b[1;33m.\u001b[0m\u001b[0m_internally_replaced_utils\u001b[0m \u001b[1;32mimport\u001b[0m \u001b[0mload_state_dict_from_url\u001b[0m\u001b[1;33m\u001b[0m\u001b[1;33m\u001b[0m\u001b[0m\n\u001b[0m\u001b[0;32m     10\u001b[0m \u001b[1;32mfrom\u001b[0m \u001b[1;33m.\u001b[0m\u001b[1;33m.\u001b[0m\u001b[0mops\u001b[0m\u001b[1;33m.\u001b[0m\u001b[0mmisc\u001b[0m \u001b[1;32mimport\u001b[0m \u001b[0mConvNormActivation\u001b[0m\u001b[1;33m,\u001b[0m \u001b[0mSqueezeExcitation\u001b[0m\u001b[1;33m\u001b[0m\u001b[1;33m\u001b[0m\u001b[0m\n\u001b[0;32m     11\u001b[0m \u001b[1;32mfrom\u001b[0m \u001b[1;33m.\u001b[0m\u001b[0m_utils\u001b[0m \u001b[1;32mimport\u001b[0m \u001b[0m_make_divisible\u001b[0m\u001b[1;33m\u001b[0m\u001b[1;33m\u001b[0m\u001b[0m\n",
      "\u001b[1;31mImportError\u001b[0m: attempted relative import with no known parent package"
     ]
    }
   ],
   "source": [
    "import regNet\n",
    "\n",
    "model =regNet.regnet_y_32gf(pretrained = True)"
   ]
  },
  {
   "cell_type": "code",
   "execution_count": null,
   "metadata": {},
   "outputs": [],
   "source": []
  }
 ],
 "metadata": {
  "interpreter": {
   "hash": "417d50cab6d0ee120e6de62fb3f5f413d1e73fa5d22c176bf88fbbd0170ec55f"
  },
  "kernelspec": {
   "display_name": "Python 3.9.9 64-bit (windows store)",
   "language": "python",
   "name": "python3"
  },
  "language_info": {
   "codemirror_mode": {
    "name": "ipython",
    "version": 3
   },
   "file_extension": ".py",
   "mimetype": "text/x-python",
   "name": "python",
   "nbconvert_exporter": "python",
   "pygments_lexer": "ipython3",
   "version": "3.9.9"
  },
  "orig_nbformat": 4
 },
 "nbformat": 4,
 "nbformat_minor": 2
}
